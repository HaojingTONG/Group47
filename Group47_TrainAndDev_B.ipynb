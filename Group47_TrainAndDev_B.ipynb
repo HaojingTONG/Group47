{
 "cells": [
  {
   "cell_type": "code",
   "execution_count": 1,
   "id": "9b57ab68",
   "metadata": {},
   "outputs": [],
   "source": [
    "# Import some necessary libraries\n",
    "import numpy as np\n",
    "from tensorflow.keras.preprocessing.text import Tokenizer\n",
    "from tensorflow.keras.preprocessing.sequence import pad_sequences\n",
    "from tensorflow.keras.utils import to_categorical\n"
   ]
  },
  {
   "cell_type": "markdown",
   "id": "e64a5a05",
   "metadata": {},
   "source": [
    "# Step 1: Reading the CSV File"
   ]
  },
  {
   "cell_type": "code",
   "execution_count": 2,
   "id": "ed1456af",
   "metadata": {},
   "outputs": [
    {
     "data": {
      "text/html": [
       "<div>\n",
       "<style scoped>\n",
       "    .dataframe tbody tr th:only-of-type {\n",
       "        vertical-align: middle;\n",
       "    }\n",
       "\n",
       "    .dataframe tbody tr th {\n",
       "        vertical-align: top;\n",
       "    }\n",
       "\n",
       "    .dataframe thead th {\n",
       "        text-align: right;\n",
       "    }\n",
       "</style>\n",
       "<table border=\"1\" class=\"dataframe\">\n",
       "  <thead>\n",
       "    <tr style=\"text-align: right;\">\n",
       "      <th></th>\n",
       "      <th>premise</th>\n",
       "      <th>hypothesis</th>\n",
       "      <th>label</th>\n",
       "    </tr>\n",
       "  </thead>\n",
       "  <tbody>\n",
       "    <tr>\n",
       "      <th>0</th>\n",
       "      <td>However, Fort Charles was rebuilt as a militar...</td>\n",
       "      <td>Fort Charles was rebuilt as an amusement park ...</td>\n",
       "      <td>0</td>\n",
       "    </tr>\n",
       "    <tr>\n",
       "      <th>1</th>\n",
       "      <td>Buchanan's  The Democrats and Republicans have...</td>\n",
       "      <td>THe parties will never be similar.</td>\n",
       "      <td>0</td>\n",
       "    </tr>\n",
       "    <tr>\n",
       "      <th>2</th>\n",
       "      <td>In order to review an acquisition that is usin...</td>\n",
       "      <td>The auditor only reviews the acquisition itsel...</td>\n",
       "      <td>0</td>\n",
       "    </tr>\n",
       "    <tr>\n",
       "      <th>3</th>\n",
       "      <td>Three young people sit outside and engage with...</td>\n",
       "      <td>There is a tin can and string telephone.</td>\n",
       "      <td>0</td>\n",
       "    </tr>\n",
       "    <tr>\n",
       "      <th>4</th>\n",
       "      <td>The lucrative tin mines of Kuala Lumpur in the...</td>\n",
       "      <td>The Chinese labor was seen as less costly and ...</td>\n",
       "      <td>1</td>\n",
       "    </tr>\n",
       "    <tr>\n",
       "      <th>...</th>\n",
       "      <td>...</td>\n",
       "      <td>...</td>\n",
       "      <td>...</td>\n",
       "    </tr>\n",
       "    <tr>\n",
       "      <th>26939</th>\n",
       "      <td>Information in agencies' plans and reports pro...</td>\n",
       "      <td>Thanks to agencies' plans and reports, over $3...</td>\n",
       "      <td>0</td>\n",
       "    </tr>\n",
       "    <tr>\n",
       "      <th>26940</th>\n",
       "      <td>He is the Mr. Magoo of scientific theory, geni...</td>\n",
       "      <td>He understands everything he can't see.</td>\n",
       "      <td>0</td>\n",
       "    </tr>\n",
       "    <tr>\n",
       "      <th>26941</th>\n",
       "      <td>Over the past 25 years, the Postal Service has...</td>\n",
       "      <td>Classifying mail is important to the function ...</td>\n",
       "      <td>1</td>\n",
       "    </tr>\n",
       "    <tr>\n",
       "      <th>26942</th>\n",
       "      <td>Whoever first stepped ashore on Madeira discov...</td>\n",
       "      <td>The British discovered the Canary Islands first.</td>\n",
       "      <td>0</td>\n",
       "    </tr>\n",
       "    <tr>\n",
       "      <th>26943</th>\n",
       "      <td>But I admit that when a drum and bugle corps m...</td>\n",
       "      <td>I hate the Star Wars song.</td>\n",
       "      <td>0</td>\n",
       "    </tr>\n",
       "  </tbody>\n",
       "</table>\n",
       "<p>26944 rows × 3 columns</p>\n",
       "</div>"
      ],
      "text/plain": [
       "                                                 premise  \\\n",
       "0      However, Fort Charles was rebuilt as a militar...   \n",
       "1      Buchanan's  The Democrats and Republicans have...   \n",
       "2      In order to review an acquisition that is usin...   \n",
       "3      Three young people sit outside and engage with...   \n",
       "4      The lucrative tin mines of Kuala Lumpur in the...   \n",
       "...                                                  ...   \n",
       "26939  Information in agencies' plans and reports pro...   \n",
       "26940  He is the Mr. Magoo of scientific theory, geni...   \n",
       "26941  Over the past 25 years, the Postal Service has...   \n",
       "26942  Whoever first stepped ashore on Madeira discov...   \n",
       "26943  But I admit that when a drum and bugle corps m...   \n",
       "\n",
       "                                              hypothesis  label  \n",
       "0      Fort Charles was rebuilt as an amusement park ...      0  \n",
       "1                     THe parties will never be similar.      0  \n",
       "2      The auditor only reviews the acquisition itsel...      0  \n",
       "3               There is a tin can and string telephone.      0  \n",
       "4      The Chinese labor was seen as less costly and ...      1  \n",
       "...                                                  ...    ...  \n",
       "26939  Thanks to agencies' plans and reports, over $3...      0  \n",
       "26940            He understands everything he can't see.      0  \n",
       "26941  Classifying mail is important to the function ...      1  \n",
       "26942   The British discovered the Canary Islands first.      0  \n",
       "26943                         I hate the Star Wars song.      0  \n",
       "\n",
       "[26944 rows x 3 columns]"
      ]
     },
     "execution_count": 2,
     "metadata": {},
     "output_type": "execute_result"
    }
   ],
   "source": [
    "import pandas as pd\n",
    "\n",
    "# Load the dataset\n",
    "training_data = 'training_data/NLI/train.csv'\n",
    "df_training = pd.read_csv(training_data)\n",
    "df_training"
   ]
  },
  {
   "cell_type": "code",
   "execution_count": 3,
   "id": "43a6904c",
   "metadata": {},
   "outputs": [
    {
     "data": {
      "text/html": [
       "<div>\n",
       "<style scoped>\n",
       "    .dataframe tbody tr th:only-of-type {\n",
       "        vertical-align: middle;\n",
       "    }\n",
       "\n",
       "    .dataframe tbody tr th {\n",
       "        vertical-align: top;\n",
       "    }\n",
       "\n",
       "    .dataframe thead th {\n",
       "        text-align: right;\n",
       "    }\n",
       "</style>\n",
       "<table border=\"1\" class=\"dataframe\">\n",
       "  <thead>\n",
       "    <tr style=\"text-align: right;\">\n",
       "      <th></th>\n",
       "      <th>premise</th>\n",
       "      <th>hypothesis</th>\n",
       "      <th>label</th>\n",
       "    </tr>\n",
       "  </thead>\n",
       "  <tbody>\n",
       "    <tr>\n",
       "      <th>0</th>\n",
       "      <td>Mon Dieu!</td>\n",
       "      <td>This person is speaking English.</td>\n",
       "      <td>0</td>\n",
       "    </tr>\n",
       "    <tr>\n",
       "      <th>1</th>\n",
       "      <td>He really shook up my whole mindset, Broker sa...</td>\n",
       "      <td>His mindset never changed, Broker said.</td>\n",
       "      <td>0</td>\n",
       "    </tr>\n",
       "    <tr>\n",
       "      <th>2</th>\n",
       "      <td>Patients were asked to place themselves on a r...</td>\n",
       "      <td>Most patients rated themselves as a 5 on the s...</td>\n",
       "      <td>1</td>\n",
       "    </tr>\n",
       "    <tr>\n",
       "      <th>3</th>\n",
       "      <td>I managed to pick-pocket someone next to the s...</td>\n",
       "      <td>I stole someone's wallet near the concession s...</td>\n",
       "      <td>1</td>\n",
       "    </tr>\n",
       "    <tr>\n",
       "      <th>4</th>\n",
       "      <td>Forty comments were received and considered pr...</td>\n",
       "      <td>The decisions regarding the issuance of the fi...</td>\n",
       "      <td>1</td>\n",
       "    </tr>\n",
       "    <tr>\n",
       "      <th>...</th>\n",
       "      <td>...</td>\n",
       "      <td>...</td>\n",
       "      <td>...</td>\n",
       "    </tr>\n",
       "    <tr>\n",
       "      <th>6732</th>\n",
       "      <td>Outstanding in the ground floor collections ar...</td>\n",
       "      <td>Gustave Courbet's work is only featured on the...</td>\n",
       "      <td>0</td>\n",
       "    </tr>\n",
       "    <tr>\n",
       "      <th>6733</th>\n",
       "      <td>Aurangzeb streamlined the lax administration o...</td>\n",
       "      <td>Aurangzeb made the administration inefficient ...</td>\n",
       "      <td>0</td>\n",
       "    </tr>\n",
       "    <tr>\n",
       "      <th>6734</th>\n",
       "      <td>Re-Analysis of NMMAPS Morbidity Data and Furth...</td>\n",
       "      <td>The re-analysis of NMMAPS morbidity data is a ...</td>\n",
       "      <td>1</td>\n",
       "    </tr>\n",
       "    <tr>\n",
       "      <th>6735</th>\n",
       "      <td>But to refuse, after Topham had spoken for him...</td>\n",
       "      <td>There were no suspicion on either sides.</td>\n",
       "      <td>0</td>\n",
       "    </tr>\n",
       "    <tr>\n",
       "      <th>6736</th>\n",
       "      <td>She failed to finish.</td>\n",
       "      <td>She competed in the women's event at the 2015 ...</td>\n",
       "      <td>1</td>\n",
       "    </tr>\n",
       "  </tbody>\n",
       "</table>\n",
       "<p>6737 rows × 3 columns</p>\n",
       "</div>"
      ],
      "text/plain": [
       "                                                premise  \\\n",
       "0                                            Mon Dieu!    \n",
       "1     He really shook up my whole mindset, Broker sa...   \n",
       "2     Patients were asked to place themselves on a r...   \n",
       "3     I managed to pick-pocket someone next to the s...   \n",
       "4     Forty comments were received and considered pr...   \n",
       "...                                                 ...   \n",
       "6732  Outstanding in the ground floor collections ar...   \n",
       "6733  Aurangzeb streamlined the lax administration o...   \n",
       "6734  Re-Analysis of NMMAPS Morbidity Data and Furth...   \n",
       "6735  But to refuse, after Topham had spoken for him...   \n",
       "6736                              She failed to finish.   \n",
       "\n",
       "                                             hypothesis  label  \n",
       "0                      This person is speaking English.      0  \n",
       "1               His mindset never changed, Broker said.      0  \n",
       "2     Most patients rated themselves as a 5 on the s...      1  \n",
       "3     I stole someone's wallet near the concession s...      1  \n",
       "4     The decisions regarding the issuance of the fi...      1  \n",
       "...                                                 ...    ...  \n",
       "6732  Gustave Courbet's work is only featured on the...      0  \n",
       "6733  Aurangzeb made the administration inefficient ...      0  \n",
       "6734  The re-analysis of NMMAPS morbidity data is a ...      1  \n",
       "6735           There were no suspicion on either sides.      0  \n",
       "6736  She competed in the women's event at the 2015 ...      1  \n",
       "\n",
       "[6737 rows x 3 columns]"
      ]
     },
     "execution_count": 3,
     "metadata": {},
     "output_type": "execute_result"
    }
   ],
   "source": [
    "validation_data = 'training_data/NLI/dev.csv'\n",
    "df_validation = pd.read_csv(validation_data)\n",
    "df_validation"
   ]
  },
  {
   "cell_type": "code",
   "execution_count": 4,
   "id": "fcef98b9",
   "metadata": {},
   "outputs": [],
   "source": [
    "df_validation['hypothesis'] = df_validation['hypothesis'].astype(str)"
   ]
  },
  {
   "cell_type": "markdown",
   "id": "7b9fe9b3",
   "metadata": {},
   "source": [
    "# Step 2: Preprocessing the Data"
   ]
  },
  {
   "cell_type": "code",
   "execution_count": 5,
   "id": "37da6e9a",
   "metadata": {},
   "outputs": [
    {
     "name": "stdout",
     "output_type": "stream",
     "text": [
      "18.864348277909738\n",
      "10.269521971496436\n",
      "[[  328  2104  1601 ...     0     0     0]\n",
      " [10608     1  1782 ...     0     0     0]\n",
      " [    6   377     5 ...     0     0     0]\n",
      " ...\n",
      " [   83     1   434 ...     0     0     0]\n",
      " [ 8148   108  3633 ...     0     0     0]\n",
      " [   21     8  2768 ...     0     0     0]]\n",
      "26944\n",
      "40\n"
     ]
    }
   ],
   "source": [
    "# Combine premises & hypotheses for tokenization\n",
    "\n",
    "training_texts = list(df_training['premise']) + list(df_training['hypothesis']) + list(df_validation['premise']) + list(df_validation['premise'])\n",
    "\n",
    "# Initialize and fit the tokenizer\n",
    "training_tokenizer = Tokenizer(num_words=20000)  # Keep the most frequent 10,000words and ignore the rest\n",
    "training_tokenizer.fit_on_texts(training_texts)\n",
    "\n",
    "# Convert texts to sequences\n",
    "training_premise_sequences = training_tokenizer.texts_to_sequences(df_training['premise'])\n",
    "training_hypothesis_sequences = training_tokenizer.texts_to_sequences(df_training['hypothesis'])\n",
    "# print(training_premise_sequences)\n",
    "\n",
    "# Find the maximum sequence length for padding\n",
    "training_max_len = max(max(len(seq) for seq in training_premise_sequences), max(len(seq) for seq in training_hypothesis_sequences))\n",
    "training_max_len = min(training_max_len, 500) # Set a maximum length\n",
    "print(np.mean([len(seq) for seq in training_premise_sequences]))\n",
    "print(np.mean([len(seq) for seq in training_hypothesis_sequences]))\n",
    "\n",
    "# print(max_len)\n",
    "\n",
    "# Pad sequences\n",
    "training_premise_padded = pad_sequences(training_premise_sequences, maxlen=40, padding='post', truncating='post')\n",
    "training_hypothesis_padded = pad_sequences(training_hypothesis_sequences, maxlen=40, padding='post', truncating='post')\n",
    "\n",
    "print(training_premise_padded)\n",
    "print(len(training_premise_padded))\n",
    "print(len(training_premise_padded[0]))"
   ]
  },
  {
   "cell_type": "code",
   "execution_count": 6,
   "id": "bc23b681",
   "metadata": {},
   "outputs": [
    {
     "name": "stdout",
     "output_type": "stream",
     "text": [
      "18.724506456879915\n",
      "10.176488051061304\n",
      "[[ 6445 16141     0 ...     0     0     0]\n",
      " [   24    91  2072 ...     0     0     0]\n",
      " [  874    38   474 ...     0     0     0]\n",
      " ...\n",
      " [ 1566   472     4 ...     0     0     0]\n",
      " [   21     5  4408 ...     0     0     0]\n",
      " [   71  1298     5 ...     0     0     0]]\n",
      "6737\n",
      "40\n"
     ]
    }
   ],
   "source": [
    "# Combine premises & hypotheses for tokenization\n",
    "\n",
    "# validation_texts = list(df_validation['premise']) + list(df_validation['hypothesis'])\n",
    "# validation_texts = [str(text) for text in validation_texts]\n",
    "\n",
    "# # Initialize and fit the tokenizer\n",
    "# validation_tokenizer = Tokenizer(num_words=10000)  # Keep the most frequent 10,000words and ignore the rest\n",
    "# validation_tokenizer.fit_on_texts(validation_texts)\n",
    "\n",
    "# Convert texts to sequences\n",
    "validation_premise_sequences = training_tokenizer.texts_to_sequences(df_validation['premise'])\n",
    "validation_hypothesis_sequences = training_tokenizer.texts_to_sequences(df_validation['hypothesis'])\n",
    "# print(validation_hypothesis_sequences)\n",
    "\n",
    "# Find the maximum sequence length for padding\n",
    "validation_max_len = max(max(len(seq) for seq in validation_premise_sequences), max(len(seq) for seq in validation_hypothesis_sequences))\n",
    "validation_max_len = min(validation_max_len, 500) # Set a maximum length\n",
    "print(np.mean([len(seq) for seq in validation_premise_sequences]))\n",
    "print(np.mean([len(seq) for seq in validation_hypothesis_sequences]))\n",
    "\n",
    "# print(max_len)\n",
    "\n",
    "# Pad sequences\n",
    "validation_premise_padded = pad_sequences(validation_premise_sequences, maxlen=40, padding='post', truncating='post')\n",
    "validation_hypothesis_padded = pad_sequences(validation_hypothesis_sequences, maxlen=40, padding='post', truncating='post')\n",
    "\n",
    "print(validation_premise_padded)\n",
    "print(len(validation_premise_padded))\n",
    "print(len(validation_premise_padded[0]))"
   ]
  },
  {
   "cell_type": "markdown",
   "id": "4c72bb9f",
   "metadata": {},
   "source": [
    "# Step 3: Preparing the Labels"
   ]
  },
  {
   "cell_type": "code",
   "execution_count": 7,
   "id": "c8384d9e",
   "metadata": {},
   "outputs": [],
   "source": [
    "from tensorflow.keras.models import Sequential\n",
    "from tensorflow.keras.layers import Embedding, LSTM, Dense, Dropout"
   ]
  },
  {
   "cell_type": "code",
   "execution_count": 8,
   "id": "ba6ce2dc",
   "metadata": {},
   "outputs": [
    {
     "name": "stdout",
     "output_type": "stream",
     "text": [
      "[0 0 0 ... 1 0 0]\n",
      "26944\n",
      "[0 0 1 ... 1 0 1]\n",
      "6737\n"
     ]
    }
   ],
   "source": [
    "# Getting the labels\n",
    "\n",
    "# training_labels = df_training['label'].values\n",
    "# If labels are not integers\n",
    "training_labels = df_training['label'].astype(int).values\n",
    "validation_labels = df_validation['label'].astype(int).values\n",
    "\n",
    "print(training_labels)\n",
    "print(len(training_labels))\n",
    "print(validation_labels)\n",
    "print(len(validation_labels))"
   ]
  },
  {
   "cell_type": "markdown",
   "id": "04613d52",
   "metadata": {},
   "source": [
    "# Step 4: Define the BiLSTM Model"
   ]
  },
  {
   "cell_type": "code",
   "execution_count": 9,
   "id": "b1f78bbc",
   "metadata": {},
   "outputs": [],
   "source": [
    "from tensorflow.keras.models import Sequential, Model\n",
    "from tensorflow.keras.optimizers import Adam\n",
    "from tensorflow.keras.layers import Embedding, LSTM, Dense, Dropout, Bidirectional, Input, concatenate"
   ]
  },
  {
   "cell_type": "code",
   "execution_count": 10,
   "id": "45728385",
   "metadata": {},
   "outputs": [],
   "source": [
    "import keras.backend as K\n",
    "from keras.layers import concatenate"
   ]
  },
  {
   "cell_type": "code",
   "execution_count": 11,
   "id": "aa7798db",
   "metadata": {},
   "outputs": [
    {
     "name": "stderr",
     "output_type": "stream",
     "text": [
      "/Users/haojingtong/anaconda3/lib/python3.11/site-packages/keras/src/layers/core/embedding.py:86: UserWarning: Argument `input_length` is deprecated. Just remove it.\n",
      "  warnings.warn(\n"
     ]
    },
    {
     "data": {
      "text/html": [
       "<pre style=\"white-space:pre;overflow-x:auto;line-height:normal;font-family:Menlo,'DejaVu Sans Mono',consolas,'Courier New',monospace\"><span style=\"font-weight: bold\">Model: \"functional_1\"</span>\n",
       "</pre>\n"
      ],
      "text/plain": [
       "\u001b[1mModel: \"functional_1\"\u001b[0m\n"
      ]
     },
     "metadata": {},
     "output_type": "display_data"
    },
    {
     "data": {
      "text/html": [
       "<pre style=\"white-space:pre;overflow-x:auto;line-height:normal;font-family:Menlo,'DejaVu Sans Mono',consolas,'Courier New',monospace\">┏━━━━━━━━━━━━━━━━━━━━━┳━━━━━━━━━━━━━━━━━━━┳━━━━━━━━━━━━┳━━━━━━━━━━━━━━━━━━━┓\n",
       "┃<span style=\"font-weight: bold\"> Layer (type)        </span>┃<span style=\"font-weight: bold\"> Output Shape      </span>┃<span style=\"font-weight: bold\">    Param # </span>┃<span style=\"font-weight: bold\"> Connected to      </span>┃\n",
       "┡━━━━━━━━━━━━━━━━━━━━━╇━━━━━━━━━━━━━━━━━━━╇━━━━━━━━━━━━╇━━━━━━━━━━━━━━━━━━━┩\n",
       "│ input_layer         │ (<span style=\"color: #00d7ff; text-decoration-color: #00d7ff\">None</span>, <span style=\"color: #00af00; text-decoration-color: #00af00\">40</span>)        │          <span style=\"color: #00af00; text-decoration-color: #00af00\">0</span> │ -                 │\n",
       "│ (<span style=\"color: #0087ff; text-decoration-color: #0087ff\">InputLayer</span>)        │                   │            │                   │\n",
       "├─────────────────────┼───────────────────┼────────────┼───────────────────┤\n",
       "│ input_layer_1       │ (<span style=\"color: #00d7ff; text-decoration-color: #00d7ff\">None</span>, <span style=\"color: #00af00; text-decoration-color: #00af00\">40</span>)        │          <span style=\"color: #00af00; text-decoration-color: #00af00\">0</span> │ -                 │\n",
       "│ (<span style=\"color: #0087ff; text-decoration-color: #0087ff\">InputLayer</span>)        │                   │            │                   │\n",
       "├─────────────────────┼───────────────────┼────────────┼───────────────────┤\n",
       "│ embedding           │ (<span style=\"color: #00d7ff; text-decoration-color: #00d7ff\">None</span>, <span style=\"color: #00af00; text-decoration-color: #00af00\">40</span>, <span style=\"color: #00af00; text-decoration-color: #00af00\">128</span>)   │  <span style=\"color: #00af00; text-decoration-color: #00af00\">2,560,000</span> │ input_layer[<span style=\"color: #00af00; text-decoration-color: #00af00\">0</span>][<span style=\"color: #00af00; text-decoration-color: #00af00\">0</span>… │\n",
       "│ (<span style=\"color: #0087ff; text-decoration-color: #0087ff\">Embedding</span>)         │                   │            │ input_layer_1[<span style=\"color: #00af00; text-decoration-color: #00af00\">0</span>]… │\n",
       "├─────────────────────┼───────────────────┼────────────┼───────────────────┤\n",
       "│ dropout (<span style=\"color: #0087ff; text-decoration-color: #0087ff\">Dropout</span>)   │ (<span style=\"color: #00d7ff; text-decoration-color: #00d7ff\">None</span>, <span style=\"color: #00af00; text-decoration-color: #00af00\">40</span>, <span style=\"color: #00af00; text-decoration-color: #00af00\">128</span>)   │          <span style=\"color: #00af00; text-decoration-color: #00af00\">0</span> │ embedding[<span style=\"color: #00af00; text-decoration-color: #00af00\">0</span>][<span style=\"color: #00af00; text-decoration-color: #00af00\">0</span>]   │\n",
       "├─────────────────────┼───────────────────┼────────────┼───────────────────┤\n",
       "│ dropout_1 (<span style=\"color: #0087ff; text-decoration-color: #0087ff\">Dropout</span>) │ (<span style=\"color: #00d7ff; text-decoration-color: #00d7ff\">None</span>, <span style=\"color: #00af00; text-decoration-color: #00af00\">40</span>, <span style=\"color: #00af00; text-decoration-color: #00af00\">128</span>)   │          <span style=\"color: #00af00; text-decoration-color: #00af00\">0</span> │ embedding[<span style=\"color: #00af00; text-decoration-color: #00af00\">1</span>][<span style=\"color: #00af00; text-decoration-color: #00af00\">0</span>]   │\n",
       "├─────────────────────┼───────────────────┼────────────┼───────────────────┤\n",
       "│ bidirectional       │ (<span style=\"color: #00d7ff; text-decoration-color: #00d7ff\">None</span>, <span style=\"color: #00af00; text-decoration-color: #00af00\">128</span>)       │     <span style=\"color: #00af00; text-decoration-color: #00af00\">98,816</span> │ dropout[<span style=\"color: #00af00; text-decoration-color: #00af00\">0</span>][<span style=\"color: #00af00; text-decoration-color: #00af00\">0</span>],    │\n",
       "│ (<span style=\"color: #0087ff; text-decoration-color: #0087ff\">Bidirectional</span>)     │                   │            │ dropout_1[<span style=\"color: #00af00; text-decoration-color: #00af00\">0</span>][<span style=\"color: #00af00; text-decoration-color: #00af00\">0</span>]   │\n",
       "├─────────────────────┼───────────────────┼────────────┼───────────────────┤\n",
       "│ dropout_2 (<span style=\"color: #0087ff; text-decoration-color: #0087ff\">Dropout</span>) │ (<span style=\"color: #00d7ff; text-decoration-color: #00d7ff\">None</span>, <span style=\"color: #00af00; text-decoration-color: #00af00\">128</span>)       │          <span style=\"color: #00af00; text-decoration-color: #00af00\">0</span> │ bidirectional[<span style=\"color: #00af00; text-decoration-color: #00af00\">0</span>]… │\n",
       "├─────────────────────┼───────────────────┼────────────┼───────────────────┤\n",
       "│ dropout_3 (<span style=\"color: #0087ff; text-decoration-color: #0087ff\">Dropout</span>) │ (<span style=\"color: #00d7ff; text-decoration-color: #00d7ff\">None</span>, <span style=\"color: #00af00; text-decoration-color: #00af00\">128</span>)       │          <span style=\"color: #00af00; text-decoration-color: #00af00\">0</span> │ bidirectional[<span style=\"color: #00af00; text-decoration-color: #00af00\">1</span>]… │\n",
       "├─────────────────────┼───────────────────┼────────────┼───────────────────┤\n",
       "│ concatenate         │ (<span style=\"color: #00d7ff; text-decoration-color: #00d7ff\">None</span>, <span style=\"color: #00af00; text-decoration-color: #00af00\">256</span>)       │          <span style=\"color: #00af00; text-decoration-color: #00af00\">0</span> │ dropout_2[<span style=\"color: #00af00; text-decoration-color: #00af00\">0</span>][<span style=\"color: #00af00; text-decoration-color: #00af00\">0</span>],  │\n",
       "│ (<span style=\"color: #0087ff; text-decoration-color: #0087ff\">Concatenate</span>)       │                   │            │ dropout_3[<span style=\"color: #00af00; text-decoration-color: #00af00\">0</span>][<span style=\"color: #00af00; text-decoration-color: #00af00\">0</span>]   │\n",
       "├─────────────────────┼───────────────────┼────────────┼───────────────────┤\n",
       "│ dense (<span style=\"color: #0087ff; text-decoration-color: #0087ff\">Dense</span>)       │ (<span style=\"color: #00d7ff; text-decoration-color: #00d7ff\">None</span>, <span style=\"color: #00af00; text-decoration-color: #00af00\">32</span>)        │      <span style=\"color: #00af00; text-decoration-color: #00af00\">8,224</span> │ concatenate[<span style=\"color: #00af00; text-decoration-color: #00af00\">0</span>][<span style=\"color: #00af00; text-decoration-color: #00af00\">0</span>] │\n",
       "├─────────────────────┼───────────────────┼────────────┼───────────────────┤\n",
       "│ dropout_4 (<span style=\"color: #0087ff; text-decoration-color: #0087ff\">Dropout</span>) │ (<span style=\"color: #00d7ff; text-decoration-color: #00d7ff\">None</span>, <span style=\"color: #00af00; text-decoration-color: #00af00\">32</span>)        │          <span style=\"color: #00af00; text-decoration-color: #00af00\">0</span> │ dense[<span style=\"color: #00af00; text-decoration-color: #00af00\">0</span>][<span style=\"color: #00af00; text-decoration-color: #00af00\">0</span>]       │\n",
       "├─────────────────────┼───────────────────┼────────────┼───────────────────┤\n",
       "│ dense_1 (<span style=\"color: #0087ff; text-decoration-color: #0087ff\">Dense</span>)     │ (<span style=\"color: #00d7ff; text-decoration-color: #00d7ff\">None</span>, <span style=\"color: #00af00; text-decoration-color: #00af00\">2</span>)         │         <span style=\"color: #00af00; text-decoration-color: #00af00\">66</span> │ dropout_4[<span style=\"color: #00af00; text-decoration-color: #00af00\">0</span>][<span style=\"color: #00af00; text-decoration-color: #00af00\">0</span>]   │\n",
       "└─────────────────────┴───────────────────┴────────────┴───────────────────┘\n",
       "</pre>\n"
      ],
      "text/plain": [
       "┏━━━━━━━━━━━━━━━━━━━━━┳━━━━━━━━━━━━━━━━━━━┳━━━━━━━━━━━━┳━━━━━━━━━━━━━━━━━━━┓\n",
       "┃\u001b[1m \u001b[0m\u001b[1mLayer (type)       \u001b[0m\u001b[1m \u001b[0m┃\u001b[1m \u001b[0m\u001b[1mOutput Shape     \u001b[0m\u001b[1m \u001b[0m┃\u001b[1m \u001b[0m\u001b[1m   Param #\u001b[0m\u001b[1m \u001b[0m┃\u001b[1m \u001b[0m\u001b[1mConnected to     \u001b[0m\u001b[1m \u001b[0m┃\n",
       "┡━━━━━━━━━━━━━━━━━━━━━╇━━━━━━━━━━━━━━━━━━━╇━━━━━━━━━━━━╇━━━━━━━━━━━━━━━━━━━┩\n",
       "│ input_layer         │ (\u001b[38;5;45mNone\u001b[0m, \u001b[38;5;34m40\u001b[0m)        │          \u001b[38;5;34m0\u001b[0m │ -                 │\n",
       "│ (\u001b[38;5;33mInputLayer\u001b[0m)        │                   │            │                   │\n",
       "├─────────────────────┼───────────────────┼────────────┼───────────────────┤\n",
       "│ input_layer_1       │ (\u001b[38;5;45mNone\u001b[0m, \u001b[38;5;34m40\u001b[0m)        │          \u001b[38;5;34m0\u001b[0m │ -                 │\n",
       "│ (\u001b[38;5;33mInputLayer\u001b[0m)        │                   │            │                   │\n",
       "├─────────────────────┼───────────────────┼────────────┼───────────────────┤\n",
       "│ embedding           │ (\u001b[38;5;45mNone\u001b[0m, \u001b[38;5;34m40\u001b[0m, \u001b[38;5;34m128\u001b[0m)   │  \u001b[38;5;34m2,560,000\u001b[0m │ input_layer[\u001b[38;5;34m0\u001b[0m][\u001b[38;5;34m0\u001b[0m… │\n",
       "│ (\u001b[38;5;33mEmbedding\u001b[0m)         │                   │            │ input_layer_1[\u001b[38;5;34m0\u001b[0m]… │\n",
       "├─────────────────────┼───────────────────┼────────────┼───────────────────┤\n",
       "│ dropout (\u001b[38;5;33mDropout\u001b[0m)   │ (\u001b[38;5;45mNone\u001b[0m, \u001b[38;5;34m40\u001b[0m, \u001b[38;5;34m128\u001b[0m)   │          \u001b[38;5;34m0\u001b[0m │ embedding[\u001b[38;5;34m0\u001b[0m][\u001b[38;5;34m0\u001b[0m]   │\n",
       "├─────────────────────┼───────────────────┼────────────┼───────────────────┤\n",
       "│ dropout_1 (\u001b[38;5;33mDropout\u001b[0m) │ (\u001b[38;5;45mNone\u001b[0m, \u001b[38;5;34m40\u001b[0m, \u001b[38;5;34m128\u001b[0m)   │          \u001b[38;5;34m0\u001b[0m │ embedding[\u001b[38;5;34m1\u001b[0m][\u001b[38;5;34m0\u001b[0m]   │\n",
       "├─────────────────────┼───────────────────┼────────────┼───────────────────┤\n",
       "│ bidirectional       │ (\u001b[38;5;45mNone\u001b[0m, \u001b[38;5;34m128\u001b[0m)       │     \u001b[38;5;34m98,816\u001b[0m │ dropout[\u001b[38;5;34m0\u001b[0m][\u001b[38;5;34m0\u001b[0m],    │\n",
       "│ (\u001b[38;5;33mBidirectional\u001b[0m)     │                   │            │ dropout_1[\u001b[38;5;34m0\u001b[0m][\u001b[38;5;34m0\u001b[0m]   │\n",
       "├─────────────────────┼───────────────────┼────────────┼───────────────────┤\n",
       "│ dropout_2 (\u001b[38;5;33mDropout\u001b[0m) │ (\u001b[38;5;45mNone\u001b[0m, \u001b[38;5;34m128\u001b[0m)       │          \u001b[38;5;34m0\u001b[0m │ bidirectional[\u001b[38;5;34m0\u001b[0m]… │\n",
       "├─────────────────────┼───────────────────┼────────────┼───────────────────┤\n",
       "│ dropout_3 (\u001b[38;5;33mDropout\u001b[0m) │ (\u001b[38;5;45mNone\u001b[0m, \u001b[38;5;34m128\u001b[0m)       │          \u001b[38;5;34m0\u001b[0m │ bidirectional[\u001b[38;5;34m1\u001b[0m]… │\n",
       "├─────────────────────┼───────────────────┼────────────┼───────────────────┤\n",
       "│ concatenate         │ (\u001b[38;5;45mNone\u001b[0m, \u001b[38;5;34m256\u001b[0m)       │          \u001b[38;5;34m0\u001b[0m │ dropout_2[\u001b[38;5;34m0\u001b[0m][\u001b[38;5;34m0\u001b[0m],  │\n",
       "│ (\u001b[38;5;33mConcatenate\u001b[0m)       │                   │            │ dropout_3[\u001b[38;5;34m0\u001b[0m][\u001b[38;5;34m0\u001b[0m]   │\n",
       "├─────────────────────┼───────────────────┼────────────┼───────────────────┤\n",
       "│ dense (\u001b[38;5;33mDense\u001b[0m)       │ (\u001b[38;5;45mNone\u001b[0m, \u001b[38;5;34m32\u001b[0m)        │      \u001b[38;5;34m8,224\u001b[0m │ concatenate[\u001b[38;5;34m0\u001b[0m][\u001b[38;5;34m0\u001b[0m] │\n",
       "├─────────────────────┼───────────────────┼────────────┼───────────────────┤\n",
       "│ dropout_4 (\u001b[38;5;33mDropout\u001b[0m) │ (\u001b[38;5;45mNone\u001b[0m, \u001b[38;5;34m32\u001b[0m)        │          \u001b[38;5;34m0\u001b[0m │ dense[\u001b[38;5;34m0\u001b[0m][\u001b[38;5;34m0\u001b[0m]       │\n",
       "├─────────────────────┼───────────────────┼────────────┼───────────────────┤\n",
       "│ dense_1 (\u001b[38;5;33mDense\u001b[0m)     │ (\u001b[38;5;45mNone\u001b[0m, \u001b[38;5;34m2\u001b[0m)         │         \u001b[38;5;34m66\u001b[0m │ dropout_4[\u001b[38;5;34m0\u001b[0m][\u001b[38;5;34m0\u001b[0m]   │\n",
       "└─────────────────────┴───────────────────┴────────────┴───────────────────┘\n"
      ]
     },
     "metadata": {},
     "output_type": "display_data"
    },
    {
     "data": {
      "text/html": [
       "<pre style=\"white-space:pre;overflow-x:auto;line-height:normal;font-family:Menlo,'DejaVu Sans Mono',consolas,'Courier New',monospace\"><span style=\"font-weight: bold\"> Total params: </span><span style=\"color: #00af00; text-decoration-color: #00af00\">2,667,106</span> (10.17 MB)\n",
       "</pre>\n"
      ],
      "text/plain": [
       "\u001b[1m Total params: \u001b[0m\u001b[38;5;34m2,667,106\u001b[0m (10.17 MB)\n"
      ]
     },
     "metadata": {},
     "output_type": "display_data"
    },
    {
     "data": {
      "text/html": [
       "<pre style=\"white-space:pre;overflow-x:auto;line-height:normal;font-family:Menlo,'DejaVu Sans Mono',consolas,'Courier New',monospace\"><span style=\"font-weight: bold\"> Trainable params: </span><span style=\"color: #00af00; text-decoration-color: #00af00\">2,667,106</span> (10.17 MB)\n",
       "</pre>\n"
      ],
      "text/plain": [
       "\u001b[1m Trainable params: \u001b[0m\u001b[38;5;34m2,667,106\u001b[0m (10.17 MB)\n"
      ]
     },
     "metadata": {},
     "output_type": "display_data"
    },
    {
     "data": {
      "text/html": [
       "<pre style=\"white-space:pre;overflow-x:auto;line-height:normal;font-family:Menlo,'DejaVu Sans Mono',consolas,'Courier New',monospace\"><span style=\"font-weight: bold\"> Non-trainable params: </span><span style=\"color: #00af00; text-decoration-color: #00af00\">0</span> (0.00 B)\n",
       "</pre>\n"
      ],
      "text/plain": [
       "\u001b[1m Non-trainable params: \u001b[0m\u001b[38;5;34m0\u001b[0m (0.00 B)\n"
      ]
     },
     "metadata": {},
     "output_type": "display_data"
    }
   ],
   "source": [
    "from tensorflow.keras.layers import Input, Embedding, Dropout, Bidirectional, LSTM, Dense, concatenate\n",
    "from tensorflow.keras.models import Model\n",
    "\n",
    "# Model parameters\n",
    "vocab_size = 20000\n",
    "embedding_dim = 128\n",
    "max_length = 40\n",
    "\n",
    "# Define inputs\n",
    "input1 = Input(shape=(max_length,))\n",
    "input2 = Input(shape=(max_length,))\n",
    "\n",
    "# Embedding layer common to both inputs\n",
    "embedding_layer = Embedding(vocab_size, embedding_dim, input_length=max_length)\n",
    "\n",
    "# Apply embedding layer to both inputs\n",
    "embedding_premise = Dropout(0.5)(embedding_layer(input1))\n",
    "embedding_hypothesis = Dropout(0.5)(embedding_layer(input2))\n",
    "\n",
    "# Define a Bidirectional LSTM\n",
    "lstm = Bidirectional(LSTM(64))\n",
    "\n",
    "# Process both inputs through the same LSTM layer\n",
    "x1 = lstm(embedding_premise)\n",
    "x1 = Dropout(0.5)(x1)\n",
    "\n",
    "x2 = lstm(embedding_hypothesis)\n",
    "x2 = Dropout(0.5)(x2)\n",
    "\n",
    "# Concatenate the outputs of both branches\n",
    "x = concatenate([x1, x2], axis=1)\n",
    "\n",
    "# Dense and output layers\n",
    "x = Dense(32)(x)\n",
    "x = Dropout(0.5)(x)\n",
    "outputs = Dense(2, activation=\"softmax\")(x)\n",
    "\n",
    "# Create the model\n",
    "model = Model(inputs=[input1, input2], outputs=outputs)\n",
    "\n",
    "\n",
    "# Compile the model with an optimizer and loss function\n",
    "model.compile(optimizer=Adam(learning_rate=0.0001),\n",
    "              loss='sparse_categorical_crossentropy',\n",
    "              metrics=['accuracy'])\n",
    "\n",
    "# Display the model summary\n",
    "model.summary()\n"
   ]
  },
  {
   "cell_type": "markdown",
   "id": "cd5f45ef",
   "metadata": {},
   "source": [
    "# Step 5: Training the Model"
   ]
  },
  {
   "cell_type": "code",
   "execution_count": 12,
   "id": "d2f775d5",
   "metadata": {},
   "outputs": [
    {
     "name": "stdout",
     "output_type": "stream",
     "text": [
      "Epoch 1/50\n",
      "\u001b[1m421/421\u001b[0m \u001b[32m━━━━━━━━━━━━━━━━━━━━\u001b[0m\u001b[37m\u001b[0m \u001b[1m30s\u001b[0m 68ms/step - accuracy: 0.5190 - loss: 0.6921 - val_accuracy: 0.5937 - val_loss: 0.6735\n",
      "Epoch 2/50\n",
      "\u001b[1m421/421\u001b[0m \u001b[32m━━━━━━━━━━━━━━━━━━━━\u001b[0m\u001b[37m\u001b[0m \u001b[1m34s\u001b[0m 80ms/step - accuracy: 0.5981 - loss: 0.6668 - val_accuracy: 0.6341 - val_loss: 0.6382\n",
      "Epoch 3/50\n",
      "\u001b[1m421/421\u001b[0m \u001b[32m━━━━━━━━━━━━━━━━━━━━\u001b[0m\u001b[37m\u001b[0m \u001b[1m40s\u001b[0m 96ms/step - accuracy: 0.6577 - loss: 0.6231 - val_accuracy: 0.6726 - val_loss: 0.5995\n",
      "Epoch 4/50\n",
      "\u001b[1m421/421\u001b[0m \u001b[32m━━━━━━━━━━━━━━━━━━━━\u001b[0m\u001b[37m\u001b[0m \u001b[1m40s\u001b[0m 95ms/step - accuracy: 0.7022 - loss: 0.5714 - val_accuracy: 0.6742 - val_loss: 0.5897\n",
      "Epoch 5/50\n",
      "\u001b[1m421/421\u001b[0m \u001b[32m━━━━━━━━━━━━━━━━━━━━\u001b[0m\u001b[37m\u001b[0m \u001b[1m39s\u001b[0m 93ms/step - accuracy: 0.7398 - loss: 0.5377 - val_accuracy: 0.6783 - val_loss: 0.5885\n",
      "Epoch 6/50\n",
      "\u001b[1m421/421\u001b[0m \u001b[32m━━━━━━━━━━━━━━━━━━━━\u001b[0m\u001b[37m\u001b[0m \u001b[1m40s\u001b[0m 94ms/step - accuracy: 0.7553 - loss: 0.5146 - val_accuracy: 0.6788 - val_loss: 0.5982\n",
      "Epoch 7/50\n",
      "\u001b[1m421/421\u001b[0m \u001b[32m━━━━━━━━━━━━━━━━━━━━\u001b[0m\u001b[37m\u001b[0m \u001b[1m39s\u001b[0m 92ms/step - accuracy: 0.7705 - loss: 0.4875 - val_accuracy: 0.6708 - val_loss: 0.6129\n",
      "Epoch 8/50\n",
      "\u001b[1m421/421\u001b[0m \u001b[32m━━━━━━━━━━━━━━━━━━━━\u001b[0m\u001b[37m\u001b[0m \u001b[1m40s\u001b[0m 94ms/step - accuracy: 0.7853 - loss: 0.4676 - val_accuracy: 0.6693 - val_loss: 0.6349\n",
      "Epoch 9/50\n",
      "\u001b[1m421/421\u001b[0m \u001b[32m━━━━━━━━━━━━━━━━━━━━\u001b[0m\u001b[37m\u001b[0m \u001b[1m38s\u001b[0m 90ms/step - accuracy: 0.7994 - loss: 0.4399 - val_accuracy: 0.6645 - val_loss: 0.6509\n",
      "Epoch 10/50\n",
      "\u001b[1m421/421\u001b[0m \u001b[32m━━━━━━━━━━━━━━━━━━━━\u001b[0m\u001b[37m\u001b[0m \u001b[1m42s\u001b[0m 100ms/step - accuracy: 0.8055 - loss: 0.4264 - val_accuracy: 0.6632 - val_loss: 0.6691\n",
      "Epoch 10: early stopping\n",
      "Restoring model weights from the end of the best epoch: 5.\n"
     ]
    }
   ],
   "source": [
    "from tensorflow.keras.callbacks import EarlyStopping\n",
    "\n",
    "# Training the model with Early Stopping\n",
    "early_stopping = EarlyStopping(monitor='val_loss', patience=5, verbose=1, mode='min', restore_best_weights=True)\n",
    "\n",
    "history = model.fit([training_hypothesis_padded, training_premise_padded], training_labels,\n",
    "                    epochs=50,\n",
    "                    batch_size=64,\n",
    "                    validation_data=([validation_hypothesis_padded, validation_premise_padded ], validation_labels),\n",
    "                    callbacks=[early_stopping])"
   ]
  },
  {
   "cell_type": "code",
   "execution_count": 17,
   "id": "dc87be04",
   "metadata": {},
   "outputs": [
    {
     "name": "stdout",
     "output_type": "stream",
     "text": [
      "\u001b[1m106/106\u001b[0m \u001b[32m━━━━━━━━━━━━━━━━━━━━\u001b[0m\u001b[37m\u001b[0m \u001b[1m2s\u001b[0m 16ms/step - accuracy: 0.6860 - loss: 0.5816\n",
      "\n",
      "Test score/loss: 0.5885474681854248\n",
      "Test accuracy: 0.6783434748649597\n",
      "dict_keys(['accuracy', 'loss', 'val_accuracy', 'val_loss'])\n"
     ]
    },
    {
     "data": {
      "image/png": "[encoded data removed]",
      "text/plain": [
       "<Figure size 640x480 with 1 Axes>"
      ]
     },
     "metadata": {},
     "output_type": "display_data"
    },
    {
     "data": {
      "image/png": "[encoded data removed]",
      "text/plain": [
       "<Figure size 640x480 with 1 Axes>"
      ]
     },
     "metadata": {},
     "output_type": "display_data"
    }
   ],
   "source": [
    "import matplotlib.pyplot as plt\n",
    "\n",
    "#Testing\n",
    "score = model.evaluate([validation_hypothesis_padded, validation_premise_padded], validation_labels, batch_size=64, verbose=1)\n",
    "print(\"\\nTest score/loss:\", score[0])\n",
    "print('Test accuracy:', score[1])\n",
    "\n",
    "# list all data in history\n",
    "print(history.history.keys())\n",
    "\n",
    "# summarize history for accuracy\n",
    "#plt.plot(mo)\n",
    "plt.plot(history.history['accuracy'])\n",
    "plt.plot(history.history['val_accuracy'])\n",
    "plt.title('model accuracy')\n",
    "plt.ylabel('accuracy')\n",
    "plt.xlabel('epoch')\n",
    "plt.legend(['train', 'test'], loc='upper left')\n",
    "plt.show()\n",
    "\n",
    "# summarize history for loss\n",
    "plt.plot(history.history['loss'])\n",
    "plt.plot(history.history['val_loss'])\n",
    "plt.title('model loss')\n",
    "plt.ylabel('loss')\n",
    "plt.xlabel('epoch')\n",
    "plt.legend(['train', 'test'], loc='upper left')\n",
    "plt.show()"
   ]
  },
  {
   "cell_type": "code",
   "execution_count": 30,
   "id": "73ef7e9c",
   "metadata": {},
   "outputs": [],
   "source": [
    "import pickle\n",
    "from tensorflow.keras.models import load_model\n",
    "\n",
    "\n",
    "model.save('model_weights.keras')\n",
    "\n",
    "# Optionally, you can also pickle the entire architecture string directly if preferred:\n",
    "# with open('model_architecture.pkl', 'wb') as f:\n",
    "#     pickle.dump(model, f)\n"
   ]
  },
  {
   "cell_type": "code",
   "execution_count": 31,
   "id": "a7b3d574",
   "metadata": {},
   "outputs": [
    {
     "name": "stdout",
     "output_type": "stream",
     "text": [
      "\u001b[1m211/211\u001b[0m \u001b[32m━━━━━━━━━━━━━━━━━━━━\u001b[0m\u001b[37m\u001b[0m \u001b[1m1s\u001b[0m 6ms/step\n",
      "[[0.36974707 0.63025296]\n",
      " [0.7904384  0.20956165]\n",
      " [0.30987895 0.690121  ]\n",
      " ...\n",
      " [0.36451983 0.6354802 ]\n",
      " [0.6848138  0.31518617]\n",
      " [0.3415795  0.6584205 ]]\n"
     ]
    }
   ],
   "source": [
    "predictions = model.predict([validation_hypothesis_padded, validation_premise_padded])\n",
    "\n",
    "print(predictions)\n",
    "# Assuming you have original labels, combine predictions with original data\n",
    "data_with_predictions = pd.DataFrame({\n",
    "#     'Original_Labels': validation_labels,\n",
    "    'Predictions': np.argmax(predictions, axis=1)\n",
    "})\n",
    "\n",
    "# Write data with predictions to CSV\n",
    "data_with_predictions.to_csv('predictions_validation.csv', index=False)\n",
    "\n",
    "\n",
    "# from sklearn.metrics import accuracy_score\n",
    "\n",
    "# val_accuracy = accuracy_score(validation_labels, np.argmax(predictions, axis=1))\n",
    "\n",
    "# print(\"val Accuracy:\", val_accuracy)"
   ]
  },
  {
   "cell_type": "code",
   "execution_count": null,
   "id": "b1b43dc5",
   "metadata": {},
   "outputs": [],
   "source": []
  }
 ],
 "metadata": {
  "kernelspec": {
   "display_name": "Python 3 (ipykernel)",
   "language": "python",
   "name": "python3"
  },
  "language_info": {
   "codemirror_mode": {
    "name": "ipython",
    "version": 3
   },
   "file_extension": ".py",
   "mimetype": "text/x-python",
   "name": "python",
   "nbconvert_exporter": "python",
   "pygments_lexer": "ipython3",
   "version": "3.11.5"
  }
 },
 "nbformat": 4,
 "nbformat_minor": 5
}
