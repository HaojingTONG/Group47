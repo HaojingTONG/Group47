{
 "cells": [
  {
   "cell_type": "markdown",
   "id": "a467e344",
   "metadata": {},
   "source": [
    "# COMP34812 Natural Language Understanding Coursework "
   ]
  },
  {
   "cell_type": "markdown",
   "id": "cec6ce1c",
   "metadata": {},
   "source": [
    "## Natural Language Inference (NLI)"
   ]
  },
  {
   "cell_type": "markdown",
   "id": "c07ab1ae",
   "metadata": {},
   "source": [
    "### Method A Demo"
   ]
  },
  {
   "cell_type": "code",
   "execution_count": 1,
   "id": "faaaca5c",
   "metadata": {},
   "outputs": [],
   "source": [
    "# Import libs used in the project\n",
    "import pandas as pd\n",
    "import numpy as np\n",
    "from sklearn.feature_extraction.text import TfidfVectorizer\n",
    "from sklearn.model_selection import train_test_split\n",
    "from sklearn.metrics import accuracy_score\n",
    "from sklearn.linear_model import LogisticRegression\n",
    "from sklearn.pipeline import make_pipeline\n",
    "from sklearn.metrics import classification_report\n",
    "\n",
    "import nltk\n",
    "from nltk.tokenize import word_tokenize\n",
    "from nltk.corpus import stopwords\n",
    "from nltk.stem import WordNetLemmatizer\n",
    "import string\n",
    "\n",
    "from scipy.sparse import csr_matrix, hstack\n",
    "\n",
    "import re\n",
    "import pickle"
   ]
  },
  {
   "cell_type": "code",
   "execution_count": 2,
   "id": "162d535d",
   "metadata": {},
   "outputs": [
    {
     "name": "stderr",
     "output_type": "stream",
     "text": [
      "[nltk_data] Downloading package punkt to\n",
      "[nltk_data]     C:\\Users\\zhuge\\AppData\\Roaming\\nltk_data...\n",
      "[nltk_data]   Package punkt is already up-to-date!\n",
      "[nltk_data] Downloading package stopwords to\n",
      "[nltk_data]     C:\\Users\\zhuge\\AppData\\Roaming\\nltk_data...\n",
      "[nltk_data]   Package stopwords is already up-to-date!\n",
      "[nltk_data] Downloading package wordnet to\n",
      "[nltk_data]     C:\\Users\\zhuge\\AppData\\Roaming\\nltk_data...\n",
      "[nltk_data]   Package wordnet is already up-to-date!\n"
     ]
    },
    {
     "data": {
      "text/plain": [
       "True"
      ]
     },
     "execution_count": 2,
     "metadata": {},
     "output_type": "execute_result"
    }
   ],
   "source": [
    "# Download all pagages needed\n",
    "nltk.download('punkt')\n",
    "nltk.download('stopwords')\n",
    "nltk.download('wordnet')"
   ]
  },
  {
   "cell_type": "code",
   "execution_count": 3,
   "id": "1b19b034",
   "metadata": {},
   "outputs": [],
   "source": [
    "# function define\n",
    "\n",
    "def remove_non_english(text):\n",
    "    cleaned_text = re.sub(r'[^\\x00-\\x7F]+', ' ', text)\n",
    "    return cleaned_text"
   ]
  },
  {
   "cell_type": "code",
   "execution_count": 4,
   "id": "98f69a86",
   "metadata": {},
   "outputs": [],
   "source": [
    "# Load model from file\n",
    "with open('NLI_A_model.pkl', 'rb') as file:\n",
    "    loaded_model = pickle.load(file)\n",
    "\n",
    "with open('tfidf_vectorizer_train.pkl', 'rb') as file:\n",
    "    loaded_vectorizer = pickle.load(file)\n",
    "\n",
    "# Load test data\n",
    "test_data = pd.read_csv(\"./test_data/NLI/test.csv\")\n",
    "test_data = test_data.fillna(value='')\n",
    "    \n",
    "for t in test_data:\n",
    "    t = remove_non_english(t)\n",
    "    \n",
    "# Create TfidfVectorizer instance for validation data\n",
    "tfidf_vectorizer = TfidfVectorizer(vocabulary=loaded_vectorizer.vocabulary_)\n",
    "X_test_premise = tfidf_vectorizer.fit_transform(test_data['premise'])\n",
    "X_test_hypothesis = tfidf_vectorizer.fit_transform(test_data['hypothesis'])\n",
    "X_test = hstack([X_test_premise, X_test_hypothesis])\n",
    "    \n",
    "# Predictions\n",
    "y_pred = loaded_model.predict(X_test)"
   ]
  },
  {
   "cell_type": "code",
   "execution_count": 5,
   "id": "709b76ef",
   "metadata": {},
   "outputs": [],
   "source": [
    "# Create a DataFrame with your original data\n",
    "df = pd.DataFrame()\n",
    "\n",
    "# Add the predictions as a new column\n",
    "df['predictions'] = y_pred\n",
    "\n",
    "# Save the DataFrame to a CSV file\n",
    "df.to_csv('Group_47_A.csv', index=False)"
   ]
  }
 ],
 "metadata": {
  "kernelspec": {
   "display_name": "Python 3 (ipykernel)",
   "language": "python",
   "name": "python3"
  },
  "language_info": {
   "codemirror_mode": {
    "name": "ipython",
    "version": 3
   },
   "file_extension": ".py",
   "mimetype": "text/x-python",
   "name": "python",
   "nbconvert_exporter": "python",
   "pygments_lexer": "ipython3",
   "version": "3.11.5"
  }
 },
 "nbformat": 4,
 "nbformat_minor": 5
}
