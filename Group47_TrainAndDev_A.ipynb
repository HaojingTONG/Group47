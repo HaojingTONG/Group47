{
 "cells": [
  {
   "cell_type": "markdown",
   "id": "a467e344",
   "metadata": {},
   "source": [
    "# COMP34812 Natural Language Understanding Coursework "
   ]
  },
  {
   "cell_type": "markdown",
   "id": "cec6ce1c",
   "metadata": {},
   "source": [
    "## Natural Language Inference (NLI)"
   ]
  },
  {
   "cell_type": "markdown",
   "id": "dca8576f",
   "metadata": {},
   "source": [
    "### Method A: Unsupervised or traditional machine learning-based approaches"
   ]
  },
  {
   "cell_type": "markdown",
   "id": "b4f098af",
   "metadata": {},
   "source": [
    "Load libs"
   ]
  },
  {
   "cell_type": "code",
   "execution_count": 1,
   "id": "faaaca5c",
   "metadata": {},
   "outputs": [],
   "source": [
    "# Import libs used in the project\n",
    "import pandas as pd\n",
    "import numpy as np\n",
    "from sklearn.feature_extraction.text import TfidfVectorizer\n",
    "from sklearn.model_selection import train_test_split\n",
    "from sklearn.metrics import accuracy_score\n",
    "from sklearn.linear_model import LogisticRegression\n",
    "from sklearn.pipeline import make_pipeline\n",
    "from sklearn.metrics import classification_report\n",
    "\n",
    "import nltk\n",
    "from nltk.tokenize import word_tokenize\n",
    "from nltk.corpus import stopwords\n",
    "from nltk.stem import WordNetLemmatizer\n",
    "import string\n",
    "\n",
    "from scipy.sparse import csr_matrix, hstack\n",
    "\n",
    "import re\n",
    "import pickle"
   ]
  },
  {
   "cell_type": "markdown",
   "id": "72b4a095",
   "metadata": {},
   "source": [
    "Download pakages"
   ]
  },
  {
   "cell_type": "code",
   "execution_count": 2,
   "id": "162d535d",
   "metadata": {},
   "outputs": [
    {
     "name": "stderr",
     "output_type": "stream",
     "text": [
      "[nltk_data] Downloading package punkt to\n",
      "[nltk_data]     C:\\Users\\zhuge\\AppData\\Roaming\\nltk_data...\n",
      "[nltk_data]   Package punkt is already up-to-date!\n",
      "[nltk_data] Downloading package stopwords to\n",
      "[nltk_data]     C:\\Users\\zhuge\\AppData\\Roaming\\nltk_data...\n",
      "[nltk_data]   Package stopwords is already up-to-date!\n",
      "[nltk_data] Downloading package wordnet to\n",
      "[nltk_data]     C:\\Users\\zhuge\\AppData\\Roaming\\nltk_data...\n",
      "[nltk_data]   Package wordnet is already up-to-date!\n"
     ]
    },
    {
     "data": {
      "text/plain": [
       "True"
      ]
     },
     "execution_count": 2,
     "metadata": {},
     "output_type": "execute_result"
    }
   ],
   "source": [
    "# Download all pakages needed\n",
    "nltk.download('punkt')\n",
    "nltk.download('stopwords')\n",
    "nltk.download('wordnet')"
   ]
  },
  {
   "cell_type": "code",
   "execution_count": 3,
   "id": "98f69a86",
   "metadata": {},
   "outputs": [],
   "source": [
    "# Load train data\n",
    "\n",
    "train_data = pd.read_csv(\"./training_data/NLI/train.csv\")\n",
    "train_data = train_data.fillna(value='')\n",
    "\n",
    "# There is some words are not english in training data need to be removed\n",
    "def remove_non_english(text):\n",
    "    cleaned_text = re.sub(r'[^\\x00-\\x7F]+', ' ', text)\n",
    "    return cleaned_text\n",
    "\n",
    "for t in train_data:\n",
    "    t = remove_non_english(t)\n",
    "\n",
    "    # Generate TfidfVectorizer feature matrix\n",
    "tfidf_vectorizer_train = TfidfVectorizer()\n",
    "X_train_premise = tfidf_vectorizer_train.fit_transform(train_data['premise'])\n",
    "tfidf_vectorizer_train_h = TfidfVectorizer(vocabulary=tfidf_vectorizer_train.vocabulary_)\n",
    "X_train_hypothesis = tfidf_vectorizer_train_h.fit_transform(train_data['hypothesis'])\n",
    "\n",
    "# Concatenate TF-IDF matrices for training data\n",
    "X_train = hstack([X_train_premise, X_train_hypothesis])\n",
    "\n",
    "# Labels\n",
    "y_train = train_data['label']"
   ]
  },
  {
   "cell_type": "markdown",
   "id": "d3f521f3",
   "metadata": {},
   "source": [
    "Model training and Save model as file:"
   ]
  },
  {
   "cell_type": "code",
   "execution_count": 4,
   "id": "febf5a83",
   "metadata": {
    "scrolled": true
   },
   "outputs": [
    {
     "name": "stdout",
     "output_type": "stream",
     "text": [
      "model saved as 'NLI_A_model.pkl'\n",
      "model saved as 'tfidf_vectorizer_train.pkl'\n"
     ]
    }
   ],
   "source": [
    "# Model training\n",
    "model = LogisticRegression(C = 0.26)\n",
    "model.fit(X_train, y_train)\n",
    "\n",
    "# Save model to a file\n",
    "with open('NLI_A_model.pkl', 'wb') as file:\n",
    "    pickle.dump(model, file)\n",
    "    print(\"model saved as 'NLI_A_model.pkl'\")\n",
    "    \n",
    "with open('tfidf_vectorizer_train.pkl', 'wb') as file:\n",
    "    pickle.dump(tfidf_vectorizer_train, file)\n",
    "    print(\"model saved as 'tfidf_vectorizer_train.pkl'\")"
   ]
  },
  {
   "cell_type": "markdown",
   "id": "7a8eac1e",
   "metadata": {},
   "source": [
    "### Load model and predict"
   ]
  },
  {
   "cell_type": "code",
   "execution_count": 5,
   "id": "4055d236",
   "metadata": {
    "scrolled": true
   },
   "outputs": [
    {
     "name": "stdout",
     "output_type": "stream",
     "text": [
      "Train Accuracy: 0.7807675178147269\n",
      "Train classification report:\n",
      "              precision    recall  f1-score   support\n",
      "\n",
      "           0       0.82      0.71      0.76     13024\n",
      "           1       0.76      0.85      0.80     13920\n",
      "\n",
      "    accuracy                           0.78     26944\n",
      "   macro avg       0.79      0.78      0.78     26944\n",
      "weighted avg       0.78      0.78      0.78     26944\n",
      "\n",
      "Validation Accuracy: 0.6639453762802434\n",
      "Validation classification report:\n",
      "              precision    recall  f1-score   support\n",
      "\n",
      "           0       0.68      0.58      0.62      3259\n",
      "           1       0.65      0.75      0.70      3478\n",
      "\n",
      "    accuracy                           0.66      6737\n",
      "   macro avg       0.67      0.66      0.66      6737\n",
      "weighted avg       0.67      0.66      0.66      6737\n",
      "\n"
     ]
    }
   ],
   "source": [
    "# Load model from file\n",
    "with open('NLI_A_model.pkl', 'rb') as file:\n",
    "    loaded_model = pickle.load(file)\n",
    "\n",
    "with open('tfidf_vectorizer_train.pkl', 'rb') as file:\n",
    "    loaded_vectorizer = pickle.load(file)\n",
    "    \n",
    "val_data = pd.read_csv(\"./training_data/NLI/dev.csv\")\n",
    "val_data = val_data.fillna(value='')\n",
    "    \n",
    "for t in val_data:\n",
    "    t = remove_non_english(t)\n",
    "    \n",
    "# Create TfidfVectorizer instance for validation data\n",
    "tfidf_vectorizer_val = TfidfVectorizer(vocabulary=loaded_vectorizer.vocabulary_)\n",
    "X_val_premise = tfidf_vectorizer_val.fit_transform(val_data['premise'])\n",
    "X_val_hypothesis = tfidf_vectorizer_val.fit_transform(val_data['hypothesis'])\n",
    "X_val = hstack([X_val_premise, X_val_hypothesis])\n",
    "\n",
    "y_val = val_data['label']\n",
    "    \n",
    "# Predictions\n",
    "y_pred_train = loaded_model.predict(X_train)\n",
    "y_pred_val = loaded_model.predict(X_val)\n",
    "\n",
    "# Evaluation\n",
    "train_accuracy = accuracy_score(y_train, y_pred_train)\n",
    "val_accuracy = accuracy_score(y_val, y_pred_val)\n",
    "\n",
    "print(\"Train Accuracy:\", train_accuracy)\n",
    "print(\"Train classification report:\")\n",
    "print(classification_report(y_train, y_pred_train))\n",
    "print(\"Validation Accuracy:\", val_accuracy)\n",
    "print(\"Validation classification report:\")\n",
    "print(classification_report(y_val, y_pred_val))"
   ]
  },
  {
   "cell_type": "markdown",
   "id": "18b20968",
   "metadata": {},
   "source": [
    "Save model as csv file"
   ]
  },
  {
   "cell_type": "code",
   "execution_count": 6,
   "id": "d04a17eb",
   "metadata": {},
   "outputs": [],
   "source": [
    "# Create a DataFrame with your original data\n",
    "df_train = pd.DataFrame()\n",
    "\n",
    "# Add the predictions as a new column\n",
    "df_train['predictions'] = y_pred_train\n",
    "\n",
    "# Save the DataFrame to a CSV file\n",
    "df_train.to_csv('A_train.csv', index=False)\n",
    "\n",
    "\n",
    "\n",
    "# Create a DataFrame with your original data\n",
    "df_val = pd.DataFrame()\n",
    "\n",
    "# Add the predictions as a new column\n",
    "df_val['predictions'] = y_pred_val\n",
    "\n",
    "# Save the DataFrame to a CSV file\n",
    "df_val.to_csv('A_dev.csv', index=False)"
   ]
  }
 ],
 "metadata": {
  "kernelspec": {
   "display_name": "Python 3 (ipykernel)",
   "language": "python",
   "name": "python3"
  },
  "language_info": {
   "codemirror_mode": {
    "name": "ipython",
    "version": 3
   },
   "file_extension": ".py",
   "mimetype": "text/x-python",
   "name": "python",
   "nbconvert_exporter": "python",
   "pygments_lexer": "ipython3",
   "version": "3.11.5"
  }
 },
 "nbformat": 4,
 "nbformat_minor": 5
}
